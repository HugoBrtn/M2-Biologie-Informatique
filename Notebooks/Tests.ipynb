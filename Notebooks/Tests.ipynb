{
 "cells": [
  {
   "cell_type": "markdown",
   "id": "f57a65b8",
   "metadata": {},
   "source": [
    "## Tests"
   ]
  },
  {
   "cell_type": "markdown",
   "id": "3f53680d",
   "metadata": {},
   "source": [
    "### Librairies & Functions"
   ]
  },
  {
   "cell_type": "code",
   "execution_count": 38,
   "id": "71ecfdc9",
   "metadata": {},
   "outputs": [],
   "source": [
    "import import_ipynb\n",
    "from Monte_Carlo import *\n",
    "from Others_Functions import *\n",
    "from Grid import *"
   ]
  },
  {
   "cell_type": "code",
   "execution_count": 37,
   "id": "76ba9b2a",
   "metadata": {},
   "outputs": [
    {
     "ename": "NameError",
     "evalue": "name 'E' is not defined",
     "output_type": "error",
     "traceback": [
      "\u001b[31m---------------------------------------------------------------------------\u001b[39m",
      "\u001b[31mNameError\u001b[39m                                 Traceback (most recent call last)",
      "\u001b[36mCell\u001b[39m\u001b[36m \u001b[39m\u001b[32mIn[37]\u001b[39m\u001b[32m, line 16\u001b[39m\n\u001b[32m     14\u001b[39m hp = \u001b[33m\"\u001b[39m\u001b[33mHPHPPHHPHPPHPHHPPHPH\u001b[39m\u001b[33m\"\u001b[39m   \u001b[38;5;66;03m# L'article indique E*=-9\u001b[39;00m\n\u001b[32m     15\u001b[39m c = generate_random_conformation(hp)\n\u001b[32m---> \u001b[39m\u001b[32m16\u001b[39m cp = \u001b[43mMCsearch\u001b[49m\u001b[43m(\u001b[49m\u001b[32;43m50000\u001b[39;49m\u001b[43m,\u001b[49m\u001b[43mc\u001b[49m\u001b[43m,\u001b[49m\u001b[43mhp\u001b[49m\u001b[43m)\u001b[49m\n\u001b[32m     17\u001b[39m plot_molecules_side_by_side(c, cp[\u001b[32m2\u001b[39m], hp)\n\u001b[32m     18\u001b[39m \u001b[38;5;28mprint\u001b[39m(cp[\u001b[32m3\u001b[39m])\n",
      "\u001b[36mFile \u001b[39m\u001b[32m<string>:16\u001b[39m, in \u001b[36mMCsearch\u001b[39m\u001b[34m(phi, c, hp, T)\u001b[39m\n",
      "\u001b[31mNameError\u001b[39m: name 'E' is not defined"
     ]
    }
   ],
   "source": [
    "# ----- Tests Montecarlo -----\n",
    "hp = \"HPPHHPPHHP\"\n",
    "hp = \"HHHHHHHHHH\"\n",
    "hp = \"HPHPHPHPHP\"\n",
    "hp = \"HPPHPPHPPH\"\n",
    "c = [(2, -2), (2, -1), (2, 0), (2, 1), (1, 1), \n",
    "    (1, 2), (0, 2), (0, 1), (-1, 1), (-1, 0)]\n",
    "#cp = MCsearch(100000,c,hp)\n",
    "#plot_molecules_side_by_side(c, cp[2], hp)\n",
    "#print(cp[3])\n",
    "\n",
    "\n",
    "\n",
    "hp = \"HPHPPHHPHPPHPHHPPHPH\"   # L'article indique E*=-9\n",
    "c = generate_random_conformation(hp)\n",
    "cp = MCsearch(50000,c,hp)\n",
    "plot_molecules_side_by_side(c, cp[2], hp)\n",
    "print(cp[3])"
   ]
  },
  {
   "cell_type": "code",
   "execution_count": null,
   "id": "ebec4a7c",
   "metadata": {},
   "outputs": [
    {
     "name": "stdout",
     "output_type": "stream",
     "text": [
      "0\n"
     ]
    }
   ],
   "source": []
  }
 ],
 "metadata": {
  "kernelspec": {
   "display_name": "Python 3",
   "language": "python",
   "name": "python3"
  },
  "language_info": {
   "codemirror_mode": {
    "name": "ipython",
    "version": 3
   },
   "file_extension": ".py",
   "mimetype": "text/x-python",
   "name": "python",
   "nbconvert_exporter": "python",
   "pygments_lexer": "ipython3",
   "version": "3.13.7"
  }
 },
 "nbformat": 4,
 "nbformat_minor": 5
}
