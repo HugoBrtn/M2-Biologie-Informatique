{
 "cells": [
  {
   "cell_type": "markdown",
   "id": "edaa77e8",
   "metadata": {},
   "source": [
    "## Functions for plotting HP Sequences\n"
   ]
  },
  {
   "cell_type": "markdown",
   "id": "091d0fc3",
   "metadata": {},
   "source": [
    "### Libraries"
   ]
  },
  {
   "cell_type": "code",
   "execution_count": 1,
   "id": "55fef275",
   "metadata": {},
   "outputs": [],
   "source": [
    "import matplotlib.pyplot as plt"
   ]
  },
  {
   "cell_type": "markdown",
   "id": "90805b1f",
   "metadata": {},
   "source": [
    "#### Plotting one 2D sequence"
   ]
  },
  {
   "cell_type": "code",
   "execution_count": null,
   "id": "f750511f",
   "metadata": {},
   "outputs": [],
   "source": [
    "def plot_molecule(c, hp_sequence, point_size=200, grid_color='gray', bg_color='white'):\n",
    "    \"\"\"\n",
    "    Plots an HP molecule configuration on a 2D grid.\n",
    "\n",
    "    Args:\n",
    "        c (list of tuples): Coordinates (x, y) of the molecule conformation.\n",
    "        hp_sequence (str): HP sequence representing the molecule.\n",
    "        point_size (int): Size of the points (default 200).\n",
    "        grid_color (str): Color of the grid (default 'gray').\n",
    "        bg_color (str): Background color (default 'white').\n",
    "    \"\"\"\n",
    "    # Create the figure and axis with specified background color\n",
    "    fig, ax = plt.subplots(figsize=(8, 8), facecolor=bg_color)\n",
    "    ax.set_aspect('equal')\n",
    "\n",
    "    # Set up the grid with dashed lines\n",
    "    ax.grid(True, which='both', linestyle='--', linewidth=0.5, color=grid_color)\n",
    "\n",
    "    # Automatically adjust grid limits based on molecule coordinates\n",
    "    min_x, min_y = min(x for x, y in c) - 1, min(y for x, y in c) - 1\n",
    "    max_x, max_y = max(x for x, y in c) + 1, max(y for x, y in c) + 1\n",
    "    ax.set_xlim(min_x, max_x)\n",
    "    ax.set_ylim(min_y, max_y)\n",
    "\n",
    "    # Plot each residue\n",
    "    for i, (x, y) in enumerate(c):\n",
    "        residue_type = hp_sequence[i]\n",
    "        # Set color based on residue type (red for H, blue for P)\n",
    "        color = 'red' if residue_type == 'H' else 'blue'\n",
    "        ax.scatter(x, y, color=color, s=point_size)\n",
    "        # Add residue number label\n",
    "        ax.text(x, y, str(i+1), ha='center', va='center', color='white', fontsize=10)\n",
    "\n",
    "    # Create bonds between consecutive residues\n",
    "    for i in range(len(c) - 1):\n",
    "        x1, y1 = c[i]\n",
    "        x2, y2 = c[i+1]\n",
    "        ax.plot([x1, x2], [y1, y2], 'k-', linewidth=1.5)\n",
    "\n",
    "    # Add legend to identify residue types and bonds\n",
    "    ax.legend(handles=[\n",
    "        plt.Line2D([0], [0], marker='o', color='w', markerfacecolor='red', markersize=10, label='H (Hydrophobic)'),\n",
    "        plt.Line2D([0], [0], marker='o', color='w', markerfacecolor='blue', markersize=10, label='P (Polar)'),\n",
    "        plt.Line2D([0], [0], color='black', linewidth=1.5, label='Bond')\n",
    "    ], loc='upper right')\n",
    "\n",
    "    # Add title to the plot\n",
    "    plt.title(\"HP Molecule\")\n",
    "    plt.show()\n"
   ]
  },
  {
   "cell_type": "markdown",
   "id": "1498fe53",
   "metadata": {},
   "source": [
    "#### Plotting two 2D sequences side by side"
   ]
  },
  {
   "cell_type": "code",
   "execution_count": null,
   "id": "4b7930fc",
   "metadata": {},
   "outputs": [],
   "source": [
    "def plot_molecules_side_by_side(c1, c2, hp_sequence, point_size=200, grid_color='gray', bg_color='white',\n",
    "                               title1=\"Initial configuration\", title2=\"New configuration\"):\n",
    "    \"\"\"\n",
    "    Plots two HP molecule configurations side by side for comparison.\n",
    "\n",
    "    Args:\n",
    "        c1 (list of tuples): Coordinates (x, y) of the first configuration.\n",
    "        c2 (list of tuples): Coordinates (x, y) of the second configuration.\n",
    "        hp_sequence (str): HP sequence common to both configurations.\n",
    "        point_size (int): Size of the points (default 200).\n",
    "        grid_color (str): Color of the grid (default 'gray').\n",
    "        bg_color (str): Background color (default 'white').\n",
    "        title1 (str): Title of the first plot (default \"Initial configuration\").\n",
    "        title2 (str): Title of the second plot (default \"New configuration\").\n",
    "    \"\"\"\n",
    "    # Verify that configurations and HP sequence have the same length\n",
    "    if len(c1) != len(hp_sequence) or len(c2) != len(hp_sequence):\n",
    "        raise ValueError(\"Configurations and HP sequence must have the same length.\")\n",
    "\n",
    "    # Create the figure with two subplots side by side\n",
    "    fig, (ax1, ax2) = plt.subplots(1, 2, figsize=(16, 8), facecolor=bg_color)\n",
    "    fig.suptitle(f\"Configuration comparison: {hp_sequence}\", fontsize=14, y=1.02)\n",
    "\n",
    "    # Function to plot a single molecule on a given axis\n",
    "    def plot_single_molecule(ax, c, title):\n",
    "        ax.set_aspect('equal')\n",
    "        ax.grid(True, which='both', linestyle='--', linewidth=0.5, color=grid_color)\n",
    "\n",
    "        # Adjust grid limits\n",
    "        min_x, min_y = min(x for x, y in c) - 1, min(y for x, y in c) - 1\n",
    "        max_x, max_y = max(x for x, y in c) + 1, max(y for x, y in c) + 1\n",
    "        ax.set_xlim(min_x, max_x)\n",
    "        ax.set_ylim(min_y, max_y)\n",
    "        ax.set_xticks(range(min_x, max_x + 1))\n",
    "        ax.set_yticks(range(min_y, max_y + 1))\n",
    "        ax.set_title(title)\n",
    "\n",
    "        # Plot residues\n",
    "        for i, (x, y) in enumerate(c):\n",
    "            residue_type = hp_sequence[i]\n",
    "            color = 'red' if residue_type == 'H' else 'blue'\n",
    "            ax.scatter(x, y, color=color, s=point_size)\n",
    "            ax.text(x, y, str(i+1), ha='center', va='center', color='white', fontsize=10)\n",
    "\n",
    "        # Create bonds between consecutive residues\n",
    "        for i in range(len(c) - 1):\n",
    "            x1, y1 = c[i]\n",
    "            x2, y2 = c[i+1]\n",
    "            ax.plot([x1, x2], [y1, y2], 'k-', linewidth=1.5)\n",
    "\n",
    "        # Add legend\n",
    "        handles = [\n",
    "            plt.Line2D([0], [0], marker='o', color='w', markerfacecolor='red', markersize=10, label='H (Hydrophobic)'),\n",
    "            plt.Line2D([0], [0], marker='o', color='w', markerfacecolor='blue', markersize=10, label='P (Polar)'),\n",
    "            plt.Line2D([0], [0], color='black', linewidth=1.5, label='Bond')\n",
    "        ]\n",
    "        ax.legend(handles=handles, loc='upper right')\n",
    "\n",
    "    # Plot both configurations\n",
    "    plot_single_molecule(ax1, c1, title1)\n",
    "    plot_single_molecule(ax2, c2, title2)\n",
    "\n",
    "    plt.tight_layout()\n",
    "    plt.show()"
   ]
  }
 ],
 "metadata": {
  "kernelspec": {
   "display_name": "Python 3",
   "language": "python",
   "name": "python3"
  },
  "language_info": {
   "codemirror_mode": {
    "name": "ipython",
    "version": 3
   },
   "file_extension": ".py",
   "mimetype": "text/x-python",
   "name": "python",
   "nbconvert_exporter": "python",
   "pygments_lexer": "ipython3",
   "version": "3.13.7"
  }
 },
 "nbformat": 4,
 "nbformat_minor": 5
}
