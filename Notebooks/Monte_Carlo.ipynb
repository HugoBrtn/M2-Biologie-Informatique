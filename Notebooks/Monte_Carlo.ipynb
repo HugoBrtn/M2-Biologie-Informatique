{
 "cells": [
  {
   "cell_type": "markdown",
   "id": "965332fa",
   "metadata": {},
   "source": [
    "## Monte Carlo Algorithm"
   ]
  },
  {
   "cell_type": "markdown",
   "id": "0a0c4fea",
   "metadata": {},
   "source": [
    "### Librairies "
   ]
  },
  {
   "cell_type": "code",
   "execution_count": 11,
   "id": "d22732d2",
   "metadata": {},
   "outputs": [],
   "source": [
    "from random import randint, random\n",
    "from math import exp\n",
    "import import_ipynb"
   ]
  },
  {
   "cell_type": "markdown",
   "id": "c63c7bde",
   "metadata": {},
   "source": [
    "### Others functions"
   ]
  },
  {
   "cell_type": "code",
   "execution_count": 12,
   "id": "af38d30a",
   "metadata": {},
   "outputs": [],
   "source": [
    "import Others_functions"
   ]
  },
  {
   "cell_type": "markdown",
   "id": "b737271a",
   "metadata": {},
   "source": [
    "#### Monte Carlo 2D"
   ]
  },
  {
   "cell_type": "code",
   "execution_count": null,
   "id": "982b2577",
   "metadata": {},
   "outputs": [],
   "source": [
    "def MCsearch(phi, c, hp, T=220):\n",
    "    \"\"\"\n",
    "    Perform a Monte Carlo search to find a low-energy conformation of an HP sequence.\n",
    "\n",
    "    Args:\n",
    "        phi (int): Number of iterations/moves to perform.\n",
    "        c (list of tuples): Current conformation as a list of (x, y) coordinates.\n",
    "        hp (str): HP sequence (Ewample : \"HPPHHPH\").\n",
    "        T (float, optional): Temperature parameter for Metropolis criterion. Defaults to 220.\n",
    "\n",
    "    Returns:\n",
    "        tuple: (final_conformation, final_energy, best_conformation, best_energy)\n",
    "    \"\"\"\n",
    "    n = len(c)\n",
    "    c_mini = c.copy()\n",
    "    E_mini = E(c, hp)  # Calculate initial energy\n",
    "\n",
    "    for i in range(phi):\n",
    "        c_prime = c.copy() \n",
    "        k = randint(1, len(c)-1)  # Choose a random residue (1-based index)\n",
    "        c_prime = M_vshd(c_prime, k)  # Apply a random VSHD move\n",
    "\n",
    "        # Calculate energy differences\n",
    "        delta_E = E(c_prime, hp) - E(c, hp)  # Energy difference with current conformation\n",
    "        delta_E_mini = E(c_prime, hp) - E_mini  # Energy difference with best conformation found\n",
    "\n",
    "        # Always accept if energy decreases or stays the same\n",
    "        if delta_E <= 0:\n",
    "            c = c_prime\n",
    "\n",
    "            # Update best conformation if this one is better\n",
    "            if delta_E_mini < 0:\n",
    "                c_mini = c_prime\n",
    "                E_mini = E(c_prime, hp)\n",
    "\n",
    "        else:\n",
    "            q = random()  # Generate a random number between 0 and 1\n",
    "            # Metropolis criterion : accept with certain probability if energy increases\n",
    "            if q < (1 / (exp(1) ** (delta_E / T))):\n",
    "                c = c_prime  \n",
    "\n",
    "    # Return final conformation, its energy, best conformation found, and its energy\n",
    "    return c, E(c, hp), c_mini, E_mini"
   ]
  }
 ],
 "metadata": {
  "kernelspec": {
   "display_name": "Python 3",
   "language": "python",
   "name": "python3"
  },
  "language_info": {
   "codemirror_mode": {
    "name": "ipython",
    "version": 3
   },
   "file_extension": ".py",
   "mimetype": "text/x-python",
   "name": "python",
   "nbconvert_exporter": "python",
   "pygments_lexer": "ipython3",
   "version": "3.13.7"
  }
 },
 "nbformat": 4,
 "nbformat_minor": 5
}
