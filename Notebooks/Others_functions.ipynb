{
 "cells": [
  {
   "cell_type": "markdown",
   "id": "76a67cca",
   "metadata": {},
   "source": [
    "## Others functions"
   ]
  },
  {
   "cell_type": "markdown",
   "id": "07027256",
   "metadata": {},
   "source": [
    "### Librairies"
   ]
  },
  {
   "cell_type": "code",
   "execution_count": 1,
   "id": "286ab132",
   "metadata": {},
   "outputs": [],
   "source": [
    "from random import shuffle, seed, randint"
   ]
  },
  {
   "cell_type": "markdown",
   "id": "e453d623",
   "metadata": {},
   "source": [
    "#### Functions for creating initial configuration for HP sequences"
   ]
  },
  {
   "cell_type": "code",
   "execution_count": 2,
   "id": "342e6b61",
   "metadata": {},
   "outputs": [],
   "source": [
    "def generate_linear_conformation(hp_sequence):\n",
    "    \"\"\"\n",
    "    Creates a linear initial configuration for an HP molecule.\n",
    "\n",
    "    Args:\n",
    "        molecule (str): HP sequence (Example: \"HPH\")\n",
    "\n",
    "    Returns:\n",
    "        list: Linear configuration as a list of (x, y) coordinates\n",
    "              Example: Config_initiale('HPH') returns [(0, 0), (1, 0), (2, 0)]\n",
    "    \"\"\"\n",
    "    # Create a linear configuration along the x-axis starting from (0, 0)\n",
    "    c_initial = [(i, 0) for i in range(len(molecule))]\n",
    "    return c_initial\n",
    "\n",
    "\n",
    "\n",
    "def generate_random_conformation(hp_sequence):\n",
    "    \"\"\"\n",
    "    Generates a random valid conformation for an HP sequence without overlaps.\n",
    "    Uses backtracking to ensure a self-avoiding walk on a 2D lattice.\n",
    "\n",
    "    Args:\n",
    "        hp_sequence (str): HP sequence (e.g., \"HPPHHPHPPH\")\n",
    "\n",
    "    Returns:\n",
    "        list: List of (x, y) coordinates representing a valid self-avoiding conformation\n",
    "    \"\"\"\n",
    "    def backtrack(current_conformation, visited, remaining_length):\n",
    "        \"\"\"Recursive helper function to build the conformation using backtracking.\"\"\"\n",
    "\n",
    "        # Base case: all residues placed\n",
    "        if remaining_length == 0:\n",
    "            return current_conformation\n",
    "\n",
    "        last_x, last_y = current_conformation[-1]\n",
    "        directions = [(0, 1), (0, -1), (1, 0), (-1, 0)]\n",
    "        shuffle(directions)  # Try directions in random order\n",
    "\n",
    "        # Try each direction\n",
    "        for dx, dy in directions:\n",
    "            new_pos = (last_x + dx, last_y + dy)\n",
    "\n",
    "            # Check if the new position is not already visited\n",
    "            if new_pos not in visited:\n",
    "                new_conformation = current_conformation + [new_pos]\n",
    "                new_visited = visited | {new_pos}\n",
    "\n",
    "                # Recursively try to place the next residue\n",
    "                result = backtrack(new_conformation, new_visited, remaining_length - 1)\n",
    "                if result is not None:\n",
    "                    return result\n",
    "\n",
    "        # If no valid move found, return None to trigger backtracking\n",
    "        return None\n",
    "\n",
    "    initial_position = (0, 0)\n",
    "    visited = {initial_position}\n",
    "\n",
    "    # Try to generate a valid conformation\n",
    "    result = backtrack([initial_position], visited, len(hp_sequence) - 1)\n",
    "\n",
    "    # If no valid conformation found, try again with a different random seed\n",
    "    while result is None:\n",
    "        seed(randint(0, 10000))\n",
    "        result = backtrack([initial_position], {initial_position}, len(hp_sequence) - 1)\n",
    "\n",
    "    return result"
   ]
  },
  {
   "cell_type": "markdown",
   "id": "9aded544",
   "metadata": {},
   "source": [
    "### Function for calculating the energy of a conformation"
   ]
  },
  {
   "cell_type": "code",
   "execution_count": null,
   "id": "8e8a441a",
   "metadata": {},
   "outputs": [],
   "source": [
    "def E(c, hp_sequence):\n",
    "    \"\"\"\n",
    "    Args:\n",
    "        c (list of tuples): List of (x, y) coordinates of residues.\n",
    "        hp_sequence (str): String representing the HP sequence (Example: \"HPPH\").\n",
    "\n",
    "    Returns:\n",
    "        int: Energy of the conformation.\n",
    "    \"\"\"\n",
    "\n",
    "    # List of indices of H residues\n",
    "    h_indices = [i for i, residue in enumerate(hp_sequence) if residue == 'H']\n",
    "    energy = 0\n",
    "\n",
    "    # Iterate through all pairs of non-consecutive H residues\n",
    "    for i in range(len(h_indices)):\n",
    "        for j in range(i + 1, len(h_indices)):\n",
    "            idx_i = h_indices[i]\n",
    "            idx_j = h_indices[j]\n",
    "\n",
    "            # Check if residues are not consecutive in the sequence\n",
    "            if abs(idx_i - idx_j) > 1:\n",
    "                # Check if residues are adjacent on the lattice\n",
    "                if abs(c[idx_i][0] - c[idx_j][0]) + abs(c[idx_i][1] - c[idx_j][1]) == 1:\n",
    "                    energy -= 1  # Each H-H contact contributes -1 to the energy\n",
    "    return energy\n"
   ]
  },
  {
   "cell_type": "markdown",
   "id": "b94b049a",
   "metadata": {},
   "source": [
    "### Is adjacent"
   ]
  },
  {
   "cell_type": "code",
   "execution_count": null,
   "id": "7799ebb9",
   "metadata": {},
   "outputs": [],
   "source": [
    "def is_adjacent(pos1, pos2):\n",
    "    \"\"\"Checks if two positions are adjacent on a 2D lattice.\"\"\"\n",
    "    return abs(pos1[0] - pos2[0]) + abs(pos1[1] - pos2[1]) == 1"
   ]
  }
 ],
 "metadata": {
  "kernelspec": {
   "display_name": "Python 3",
   "language": "python",
   "name": "python3"
  },
  "language_info": {
   "codemirror_mode": {
    "name": "ipython",
    "version": 3
   },
   "file_extension": ".py",
   "mimetype": "text/x-python",
   "name": "python",
   "nbconvert_exporter": "python",
   "pygments_lexer": "ipython3",
   "version": "3.13.7"
  }
 },
 "nbformat": 4,
 "nbformat_minor": 5
}
